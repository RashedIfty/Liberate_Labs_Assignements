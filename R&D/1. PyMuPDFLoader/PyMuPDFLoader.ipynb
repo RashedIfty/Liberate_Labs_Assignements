{
 "cells": [
  {
   "cell_type": "code",
   "execution_count": 1,
   "metadata": {},
   "outputs": [],
   "source": [
    "from langchain_community.document_loaders import PyMuPDFLoader\n",
    "\n",
    "file_path = \"D:\\\\A UDEMY\\\\__Internship__\\\\Assignements\\\\R&D\\\\PyMuPDFLoader\\\\pdf.pdf\"\n",
    "loader = PyMuPDFLoader(file_path)"
   ]
  },
  {
   "cell_type": "code",
   "execution_count": 8,
   "metadata": {},
   "outputs": [
    {
     "data": {
      "text/plain": [
       "Document(metadata={'producer': 'Skia/PDF m134 Google Docs Renderer', 'creator': '', 'creationdate': '', 'source': 'D:\\\\A UDEMY\\\\__Internship__\\\\Assignements\\\\R&D\\\\PyMuPDFLoader\\\\pdf1.pdf', 'file_path': 'D:\\\\A UDEMY\\\\__Internship__\\\\Assignements\\\\R&D\\\\PyMuPDFLoader\\\\pdf1.pdf', 'total_pages': 1, 'format': 'PDF 1.4', 'title': 'sample-pdf1', 'author': '', 'subject': '', 'keywords': '', 'moddate': '', 'trapped': '', 'page': 0}, page_content=\"My Amazing One-Page PDF \\nHere's a sample one-page PDF content with headings, lists, and bold text: \\nSection 1: Introduction \\nThis section introduces the topic of the PDF. \\n●\\u200b Key Point 1: Briefly explain the main idea. \\n●\\u200b Key Point 2: Highlight the importance of the topic. \\nSection 2: Main Points \\nThis section delves deeper into the topic, presenting key arguments or findings. \\n●\\u200b Subsection 2.1: \\n○\\u200b Point A: Elaborate on the first sub-point. \\n○\\u200b Point B: Discuss the second sub-point. \\n●\\u200b Subsection 2.2: \\n○\\u200b Point C: Present the third sub-point. \\n○\\u200b Point D: Analyze the fourth sub-point. \\nSection 3: Conclusion \\nThis section summarizes the key takeaways and provides a final thought. \\n●\\u200b Key Takeaway 1: Briefly reiterate the main conclusion. \\n●\\u200b Key Takeaway 2: Offer a potential implication or future direction. \\nNote: \\n●\\u200b This is just a basic template. You can customize it to fit your specific needs. \\n●\\u200b Adjust the headings, subheadings, and bullet points to match your content. \\n●\\u200b Use bold text to emphasize important terms or phrases. \\n●\\u200b Consider adding visuals like images or charts to enhance the content.\")"
      ]
     },
     "execution_count": 8,
     "metadata": {},
     "output_type": "execute_result"
    }
   ],
   "source": [
    "docs = loader.load()\n",
    "docs[0]"
   ]
  },
  {
   "cell_type": "code",
   "execution_count": 9,
   "metadata": {},
   "outputs": [
    {
     "name": "stdout",
     "output_type": "stream",
     "text": [
      "{'producer': 'Skia/PDF m134 Google Docs Renderer',\n",
      " 'creator': '',\n",
      " 'creationdate': '',\n",
      " 'source': 'D:\\\\A '\n",
      "           'UDEMY\\\\__Internship__\\\\Assignements\\\\R&D\\\\PyMuPDFLoader\\\\pdf1.pdf',\n",
      " 'file_path': 'D:\\\\A '\n",
      "              'UDEMY\\\\__Internship__\\\\Assignements\\\\R&D\\\\PyMuPDFLoader\\\\pdf1.pdf',\n",
      " 'total_pages': 1,\n",
      " 'format': 'PDF 1.4',\n",
      " 'title': 'sample-pdf1',\n",
      " 'author': '',\n",
      " 'subject': '',\n",
      " 'keywords': '',\n",
      " 'moddate': '',\n",
      " 'trapped': '',\n",
      " 'page': 0}\n"
     ]
    }
   ],
   "source": [
    "import pprint\n",
    "\n",
    "pprint.pp(docs[0].metadata)"
   ]
  },
  {
   "cell_type": "code",
   "execution_count": 10,
   "metadata": {},
   "outputs": [
    {
     "data": {
      "text/plain": [
       "1"
      ]
     },
     "execution_count": 10,
     "metadata": {},
     "output_type": "execute_result"
    }
   ],
   "source": [
    "pages = []\n",
    "for doc in loader.lazy_load():\n",
    "    pages.append(doc)\n",
    "    if len(pages) >= 10:\n",
    "        # do some paged operation, e.g.\n",
    "        # index.upsert(page)\n",
    "\n",
    "        pages = []\n",
    "len(pages)"
   ]
  },
  {
   "cell_type": "code",
   "execution_count": 11,
   "metadata": {},
   "outputs": [
    {
     "name": "stdout",
     "output_type": "stream",
     "text": [
      "My Amazing One-Page PDF \n",
      "Here's a sample one-page PDF content with headings, lists, and bold text: \n",
      "\n",
      "{'producer': 'Skia/PDF m134 Google Docs Renderer',\n",
      " 'creator': '',\n",
      " 'creationdate': '',\n",
      " 'source': 'D:\\\\A '\n",
      "           'UDEMY\\\\__Internship__\\\\Assignements\\\\R&D\\\\PyMuPDFLoader\\\\pdf1.pdf',\n",
      " 'file_path': 'D:\\\\A '\n",
      "              'UDEMY\\\\__Internship__\\\\Assignements\\\\R&D\\\\PyMuPDFLoader\\\\pdf1.pdf',\n",
      " 'total_pages': 1,\n",
      " 'format': 'PDF 1.4',\n",
      " 'title': 'sample-pdf1',\n",
      " 'author': '',\n",
      " 'subject': '',\n",
      " 'keywords': '',\n",
      " 'moddate': '',\n",
      " 'trapped': '',\n",
      " 'page': 0}\n"
     ]
    }
   ],
   "source": [
    "print(pages[0].page_content[:100])\n",
    "pprint.pp(pages[0].metadata)"
   ]
  },
  {
   "cell_type": "code",
   "execution_count": 12,
   "metadata": {},
   "outputs": [
    {
     "name": "stdout",
     "output_type": "stream",
     "text": [
      "1\n",
      "{'producer': 'iLovePDF',\n",
      " 'creator': '',\n",
      " 'creationdate': '',\n",
      " 'source': 'D:\\\\A '\n",
      "           'UDEMY\\\\__Internship__\\\\Assignements\\\\R&D\\\\PyMuPDFLoader\\\\pdf.pdf',\n",
      " 'file_path': 'D:\\\\A '\n",
      "              'UDEMY\\\\__Internship__\\\\Assignements\\\\R&D\\\\PyMuPDFLoader\\\\pdf.pdf',\n",
      " 'total_pages': 1,\n",
      " 'format': 'PDF 1.7',\n",
      " 'title': '',\n",
      " 'author': '',\n",
      " 'subject': '',\n",
      " 'keywords': '',\n",
      " 'moddate': '2024-12-19T16:35:34+00:00',\n",
      " 'trapped': '',\n",
      " 'page': 0}\n"
     ]
    }
   ],
   "source": [
    "loader = PyMuPDFLoader(\n",
    "    \"D:\\\\A UDEMY\\\\__Internship__\\\\Assignements\\\\R&D\\\\PyMuPDFLoader\\\\pdf.pdf\",\n",
    "    mode=\"page\",\n",
    ")\n",
    "docs = loader.load()\n",
    "print(len(docs))\n",
    "pprint.pp(docs[0].metadata)"
   ]
  },
  {
   "cell_type": "code",
   "execution_count": 13,
   "metadata": {},
   "outputs": [
    {
     "name": "stdout",
     "output_type": "stream",
     "text": [
      "1\n",
      "{'producer': 'iLovePDF',\n",
      " 'creator': '',\n",
      " 'creationdate': '',\n",
      " 'source': 'D:\\\\A '\n",
      "           'UDEMY\\\\__Internship__\\\\Assignements\\\\R&D\\\\PyMuPDFLoader\\\\pdf.pdf',\n",
      " 'file_path': 'D:\\\\A '\n",
      "              'UDEMY\\\\__Internship__\\\\Assignements\\\\R&D\\\\PyMuPDFLoader\\\\pdf.pdf',\n",
      " 'total_pages': 1,\n",
      " 'format': 'PDF 1.7',\n",
      " 'title': '',\n",
      " 'author': '',\n",
      " 'subject': '',\n",
      " 'keywords': '',\n",
      " 'moddate': '2024-12-19T16:35:34+00:00',\n",
      " 'trapped': ''}\n"
     ]
    }
   ],
   "source": [
    "loader = PyMuPDFLoader(\n",
    "    \"D:\\\\A UDEMY\\\\__Internship__\\\\Assignements\\\\R&D\\\\PyMuPDFLoader\\\\pdf.pdf\",\n",
    "    mode=\"single\",\n",
    ")\n",
    "docs = loader.load()\n",
    "print(len(docs))\n",
    "pprint.pp(docs[0].metadata)"
   ]
  },
  {
   "cell_type": "code",
   "execution_count": 14,
   "metadata": {},
   "outputs": [
    {
     "name": "stdout",
     "output_type": "stream",
     "text": [
      "CERTIFICATE OF APPRECIATION  \n",
      "is presented to \n",
      "Rashedul Arefin Ifty  \n",
      "for successfully presenting the following paper \n",
      "PID 1141: Potato Crop Yield Prediction: A Data-Driven Federated Learning Approach  \n",
      "authored by  \n",
      "Rashedul Arefin Ifty (International Islamic University Chittagong); Afif Irfan ( International Islamic University Chittagong) ; MD. Ismail \n",
      "(International Islamic University Chittagong ); Muhammed Patwary (Chittagong University of Engineering & Technology)  \n",
      "at the 27th ICCIT 2024 at Long Beach Hotel, Cox's Bazar, Bangladesh \n",
      "held during 20th-22nd December, 2024. \n",
      " \n",
      "          \n",
      "                     \n",
      "                         \n",
      "                      \n",
      " \n",
      "          _____________________          ____________________         ___________________           ___________________ \n",
      "         Prof. Dr. Mohammad S. Alam      Prof. Dr. Shaikh A. Fattah        Prof. Dr. Moshiul Hoque          Prof. Dr. Celia Shahnaz \n",
      "           General Chair, ICCIT 2024            TPC Chair, ICCIT 2024               Organizing Chair, ICCIT 202 4         General Chair, ICCIT 2024 \n",
      " \n",
      " \n",
      " \n",
      " \n",
      "\n",
      "\n",
      "\n",
      "\n",
      "![E\n",
      "Bangladesh S\n",
      "Section](#)\n",
      "![ICCIT\n",
      "ICCIT2024\n",
      "27TH\n",
      "INTERNATIONAL\n",
      "CONFERENCE ON\n",
      "COMPUTERAND\n",
      "INFORMATION TECHNOLOGY\n",
      "2024\n",
      "Long Beach Hotel\n",
      "0-0-0\n",
      "DECEMBER20-22,2024\n",
      "http://iccit.org.bd/2024\n",
      "Cox's Bazar, Bangladesh](#)\n",
      "![Organized By\n",
      "IEEE\n",
      "Bangladesh\n",
      "Section](#)\n",
      "![27\n",
      "YEARS](#)\n",
      "![0, S](#)\n",
      "![↑:](#)\n",
      "![Shehnao](#)\n"
     ]
    }
   ],
   "source": [
    "from langchain_community.document_loaders.parsers import RapidOCRBlobParser\n",
    "\n",
    "loader = PyMuPDFLoader(\n",
    "    \"D:\\\\A UDEMY\\\\__Internship__\\\\Assignements\\\\R&D\\\\PyMuPDFLoader\\\\pdf.pdf\",\n",
    "    mode=\"page\",\n",
    "    images_inner_format=\"markdown-img\",\n",
    "    images_parser=RapidOCRBlobParser(),\n",
    ")\n",
    "docs = loader.load()\n",
    "\n",
    "print(docs[0].page_content)"
   ]
  },
  {
   "cell_type": "code",
   "execution_count": 3,
   "metadata": {},
   "outputs": [
    {
     "name": "stdout",
     "output_type": "stream",
     "text": [
      "CERTIFICATE OF APPRECIATION  \n",
      "is presented to \n",
      "Rashedul Arefin Ifty  \n",
      "for successfully presenting the following paper \n",
      "PID 1141: Potato Crop Yield Prediction: A Data-Driven Federated Learning Approach  \n",
      "authored by  \n",
      "Rashedul Arefin Ifty (International Islamic University Chittagong); Afif Irfan ( International Islamic University Chittagong) ; MD. Ismail \n",
      "(International Islamic University Chittagong ); Muhammed Patwary (Chittagong University of Engineering & Technology)  \n",
      "at the 27th ICCIT 2024 at Long Beach Hotel, Cox's Bazar, Bangladesh \n",
      "held during 20th-22nd December, 2024. \n",
      " \n",
      "          \n",
      "                     \n",
      "                         \n",
      "                      \n",
      " \n",
      "          _____________________          ____________________         ___________________           ___________________ \n",
      "         Prof. Dr. Mohammad S. Alam      Prof. Dr. Shaikh A. Fattah        Prof. Dr. Moshiul Hoque          Prof. Dr. Celia Shahnaz \n",
      "           General Chair, ICCIT 2024            TPC Chair, ICCIT 2024               Organizing Chair, ICCIT 202 4         General Chair, ICCIT 2024 \n",
      " \n",
      " \n",
      " \n",
      " \n",
      "\n",
      "\n",
      "\n",
      "\n",
      "<img alt=\"+ IEEE\n",
      "\n",
      "Bangladesh Section src=\"#\" />\n",
      "<img alt=\"juny ICCIT 2024\n",
      "\n",
      "m2 27&quot; INTERNATIONAL CONFERENCE ON\n",
      "2024 COMPUTER AND INFORMATION TECHNOLOGY\n",
      "\n",
      "© Long Beach Hotel fal DECEMBER 20-22, 2024 ® http://iccit.org.bd/2024\n",
      "Cox&#x27;s Bazar, Bangladesh src=\"#\" />\n",
      "<img alt=\"Organized By\n",
      "\n",
      "IEEE\n",
      "\n",
      "Bangladesh Section src=\"#\" />\n",
      "<img alt=\"™ i\n",
      "ANNIVERSARY src=\"#\" />\n"
     ]
    }
   ],
   "source": [
    "from langchain_community.document_loaders.parsers import TesseractBlobParser\n",
    "\n",
    "loader = PyMuPDFLoader(\n",
    "    \"D:\\\\A UDEMY\\\\__Internship__\\\\Assignements\\\\R&D\\\\PyMuPDFLoader\\\\pdf.pdf\",\n",
    "    mode=\"page\",\n",
    "    images_inner_format=\"html-img\",\n",
    "    images_parser=TesseractBlobParser(),\n",
    ")\n",
    "docs = loader.load()\n",
    "print(docs[0].page_content)"
   ]
  },
  {
   "cell_type": "code",
   "execution_count": 19,
   "metadata": {},
   "outputs": [
    {
     "name": "stdout",
     "output_type": "stream",
     "text": [
      "CERTIFICATE OF APPRECIATION  \n",
      "is presented to \n",
      "Rashedul Arefin Ifty  \n",
      "for successfully presenting the following paper \n",
      "PID 1141: Potato Crop Yield Prediction: A Data-Driven Federated Learning Approach  \n",
      "authored by  \n",
      "Rashedul Arefin Ifty (International Islamic University Chittagong); Afif Irfan ( International Islamic University Chittagong) ; MD. Ismail \n",
      "(International Islamic University Chittagong ); Muhammed Patwary (Chittagong University of Engineering & Technology)  \n",
      "at the 27th ICCIT 2024 at Long Beach Hotel, Cox's Bazar, Bangladesh \n",
      "held during 20th-22nd December, 2024. \n",
      " \n",
      "          \n",
      "                     \n",
      "                         \n",
      "                      \n",
      " \n",
      "          _____________________          ____________________         ___________________           ___________________ \n",
      "         Prof. Dr. Mohammad S. Alam      Prof. Dr. Shaikh A. Fattah        Prof. Dr. Moshiul Hoque          Prof. Dr. Celia Shahnaz \n",
      "           General Chair, ICCIT 2024            TPC Chair, ICCIT 2024               Organizing Chair, ICCIT 202 4         General Chair, ICCIT 2024\n"
     ]
    }
   ],
   "source": [
    "import os\n",
    "from dotenv import load_dotenv\n",
    "\n",
    "# Load environment variables\n",
    "load_dotenv()\n",
    "groq_api_key = os.getenv(\"GROQ_API_KEY\")\n",
    "\n",
    "# Set up the Groq LLM model\n",
    "from langchain_community.document_loaders.parsers import LLMImageBlobParser\n",
    "from langchain_groq import ChatGroq\n",
    "\n",
    "llm = ChatGroq(model=\"deepseek-r1-distill-llama-70b\", temperature=0.3, api_key=groq_api_key)\n",
    "\n",
    "# Load PDF document without image parsing first to inspect raw content\n",
    "loader = PyMuPDFLoader(\n",
    "    \"D:\\\\A UDEMY\\\\__Internship__\\\\Assignements\\\\R&D\\\\PyMuPDFLoader\\\\pdf.pdf\",\n",
    "    mode=\"page\",\n",
    "    images_inner_format=\"markdown-img\",\n",
    ")\n",
    "\n",
    "# Load document content and inspect\n",
    "docs = loader.load()\n",
    "\n",
    "# Print the raw content of the first page to see what is being returned\n",
    "print(docs[0].page_content)\n"
   ]
  },
  {
   "cell_type": "code",
   "execution_count": 6,
   "metadata": {},
   "outputs": [
    {
     "name": "stdout",
     "output_type": "stream",
     "text": [
      "My Amazing One-Page PDF \n",
      "Here's a sample one-page PDF content with headings, lists, and bold text: \n",
      "Section 1: Introduction \n",
      "This section introduces the topic of the PDF. \n",
      "●​ Key Point 1: Briefly explain the main idea. \n",
      "●​ Key Point 2: Highlight the importance of the topic. \n",
      "Section 2: Main Points \n",
      "This section delves deeper into the topic, presenting key arguments or findings. \n",
      "●​ Subsection 2.1: \n",
      "○​ Point A: Elaborate on the first sub-point. \n",
      "○​ Point B: Discuss the second sub-point. \n",
      "●​ Subsection 2.2: \n",
      "○​ Point C: Present the third sub-point. \n",
      "○​ Point D: Analyze the fourth sub-point. \n",
      "Section 3: Conclusion \n",
      "This section summarizes the key takeaways and provides a final thought. \n",
      "●​ Key Takeaway 1: Briefly reiterate the main conclusion. \n",
      "●​ Key Takeaway 2: Offer a potential implication or future direction. \n",
      "Note: \n",
      "●​ This is just a basic template. You can customize it to fit your specific needs. \n",
      "●​ Adjust the headings, subheadings, and bullet points to match your content. \n",
      "●​ Use bold text to emphasize important terms or phrases. \n",
      "●​ Consider adding visuals like images or charts to enhance the content.\n"
     ]
    }
   ],
   "source": [
    "import os\n",
    "from dotenv import load_dotenv\n",
    "\n",
    "# Load environment variables\n",
    "load_dotenv()\n",
    "groq_api_key = os.getenv(\"GROQ_API_KEY\")\n",
    "\n",
    "# Set up the Groq LLM model\n",
    "from langchain_community.document_loaders.parsers import LLMImageBlobParser\n",
    "from langchain_groq import ChatGroq\n",
    "\n",
    "llm = ChatGroq(model=\"deepseek-r1-distill-llama-70b\", temperature=0.3, api_key=groq_api_key)\n",
    "\n",
    "# Load PDF document without image parsing first to inspect raw content\n",
    "loader = PyMuPDFLoader(\n",
    "    \"D:\\\\A UDEMY\\\\__Internship__\\\\Assignements\\\\R&D\\\\PyMuPDFLoader\\\\pdf1.pdf\",\n",
    "    mode=\"page\",\n",
    "    images_inner_format=\"markdown-img\",\n",
    ")\n",
    "\n",
    "# Load document content and inspect\n",
    "docs = loader.load()\n",
    "\n",
    "# Print the raw content of the first page to see what is being returned\n",
    "print(docs[0].page_content)"
   ]
  }
 ],
 "metadata": {
  "kernelspec": {
   "display_name": "base",
   "language": "python",
   "name": "python3"
  },
  "language_info": {
   "codemirror_mode": {
    "name": "ipython",
    "version": 3
   },
   "file_extension": ".py",
   "mimetype": "text/x-python",
   "name": "python",
   "nbconvert_exporter": "python",
   "pygments_lexer": "ipython3",
   "version": "3.12.8"
  }
 },
 "nbformat": 4,
 "nbformat_minor": 2
}
